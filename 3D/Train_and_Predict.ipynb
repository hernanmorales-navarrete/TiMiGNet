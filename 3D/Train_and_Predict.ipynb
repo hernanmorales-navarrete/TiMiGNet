{
 "cells": [
  {
   "cell_type": "code",
   "execution_count": 1,
   "id": "31e8f793",
   "metadata": {},
   "outputs": [
    {
     "name": "stderr",
     "output_type": "stream",
     "text": [
      "2023-05-16 11:45:20.024794: I tensorflow/core/platform/cpu_feature_guard.cc:193] This TensorFlow binary is optimized with oneAPI Deep Neural Network Library (oneDNN) to use the following CPU instructions in performance-critical operations:  AVX2 FMA\n",
      "To enable them in other operations, rebuild TensorFlow with the appropriate compiler flags.\n",
      "2023-05-16 11:45:20.529196: W tensorflow/compiler/xla/stream_executor/platform/default/dso_loader.cc:64] Could not load dynamic library 'libnvinfer.so.7'; dlerror: libnvinfer.so.7: cannot open shared object file: No such file or directory; LD_LIBRARY_PATH: :/home/hmorales/miniconda3/lib/:/home/hmorales/miniconda3/lib/:/home/hmorales/miniconda3/lib/:/home/hmorales/miniconda3/lib/:/home/hmorales/miniconda3/envs/twinnet/lib/\n",
      "2023-05-16 11:45:20.529266: W tensorflow/compiler/xla/stream_executor/platform/default/dso_loader.cc:64] Could not load dynamic library 'libnvinfer_plugin.so.7'; dlerror: libnvinfer_plugin.so.7: cannot open shared object file: No such file or directory; LD_LIBRARY_PATH: :/home/hmorales/miniconda3/lib/:/home/hmorales/miniconda3/lib/:/home/hmorales/miniconda3/lib/:/home/hmorales/miniconda3/lib/:/home/hmorales/miniconda3/envs/twinnet/lib/\n",
      "2023-05-16 11:45:20.529271: W tensorflow/compiler/tf2tensorrt/utils/py_utils.cc:38] TF-TRT Warning: Cannot dlopen some TensorRT libraries. If you would like to use Nvidia GPU with TensorRT, please make sure the missing libraries mentioned above are installed properly.\n"
     ]
    },
    {
     "name": "stdout",
     "output_type": "stream",
     "text": [
      "[PhysicalDevice(name='/physical_device:GPU:0', device_type='GPU')]\n",
      "2.11.0\n",
      "[PhysicalDevice(name='/physical_device:GPU:0', device_type='GPU')]\n",
      "/device:GPU:0\n"
     ]
    },
    {
     "name": "stderr",
     "output_type": "stream",
     "text": [
      "2023-05-16 11:45:21.568274: I tensorflow/compiler/xla/stream_executor/cuda/cuda_gpu_executor.cc:981] successful NUMA node read from SysFS had negative value (-1), but there must be at least one NUMA node, so returning NUMA node zero\n",
      "2023-05-16 11:45:21.572610: I tensorflow/compiler/xla/stream_executor/cuda/cuda_gpu_executor.cc:981] successful NUMA node read from SysFS had negative value (-1), but there must be at least one NUMA node, so returning NUMA node zero\n",
      "2023-05-16 11:45:21.572761: I tensorflow/compiler/xla/stream_executor/cuda/cuda_gpu_executor.cc:981] successful NUMA node read from SysFS had negative value (-1), but there must be at least one NUMA node, so returning NUMA node zero\n",
      "2023-05-16 11:45:21.576419: I tensorflow/compiler/xla/stream_executor/cuda/cuda_gpu_executor.cc:981] successful NUMA node read from SysFS had negative value (-1), but there must be at least one NUMA node, so returning NUMA node zero\n",
      "2023-05-16 11:45:21.576554: I tensorflow/compiler/xla/stream_executor/cuda/cuda_gpu_executor.cc:981] successful NUMA node read from SysFS had negative value (-1), but there must be at least one NUMA node, so returning NUMA node zero\n",
      "2023-05-16 11:45:21.576668: I tensorflow/compiler/xla/stream_executor/cuda/cuda_gpu_executor.cc:981] successful NUMA node read from SysFS had negative value (-1), but there must be at least one NUMA node, so returning NUMA node zero\n",
      "2023-05-16 11:45:22.572022: I tensorflow/compiler/xla/stream_executor/cuda/cuda_gpu_executor.cc:981] successful NUMA node read from SysFS had negative value (-1), but there must be at least one NUMA node, so returning NUMA node zero\n",
      "2023-05-16 11:45:22.572205: I tensorflow/compiler/xla/stream_executor/cuda/cuda_gpu_executor.cc:981] successful NUMA node read from SysFS had negative value (-1), but there must be at least one NUMA node, so returning NUMA node zero\n",
      "2023-05-16 11:45:22.572332: I tensorflow/compiler/xla/stream_executor/cuda/cuda_gpu_executor.cc:981] successful NUMA node read from SysFS had negative value (-1), but there must be at least one NUMA node, so returning NUMA node zero\n",
      "2023-05-16 11:45:22.572411: W tensorflow/core/common_runtime/gpu/gpu_bfc_allocator.cc:42] Overriding orig_value setting because the TF_FORCE_GPU_ALLOW_GROWTH environment variable is set. Original config value was 0.\n",
      "2023-05-16 11:45:22.572435: I tensorflow/core/common_runtime/gpu/gpu_device.cc:1613] Created device /device:GPU:0 with 4689 MB memory:  -> device: 0, name: NVIDIA GeForce RTX 3090, pci bus id: 0000:01:00.0, compute capability: 8.6\n"
     ]
    }
   ],
   "source": [
    "from models import *\n",
    "\n",
    "# ACTIVATE GPU USAGE\n",
    " \n",
    "gpus = tf.config.experimental.list_physical_devices('GPU')\n",
    "print(gpus)\n",
    "if gpus:\n",
    "    try:\n",
    "        for gpu in gpus:\n",
    "            tf.config.experimental.set_memory_growth(gpu, True)\n",
    "    except RuntimeError as e:\n",
    "        print(e)\n",
    "\n",
    "os.environ['TF_CPP_MIN_LOG_LEVEL'] = '3'\n",
    "os.environ['TF_FORCE_GPU_ALLOW_GROWTH'] = 'true'        \n",
    "os.environ[\"CUDA_VISIBLE_DEVICES\"] = \"1\"\n",
    "\n",
    "print(tf.__version__)\n",
    "print(tf.config.experimental.list_physical_devices('GPU'))\n",
    "print(tf.test.gpu_device_name())"
   ]
  },
  {
   "cell_type": "markdown",
   "id": "01dc63a6",
   "metadata": {},
   "source": [
    "# TRAINING PROCESS - 3D MODEL\n"
   ]
  },
  {
   "cell_type": "code",
   "execution_count": null,
   "id": "ca25fbae",
   "metadata": {},
   "outputs": [],
   "source": [
    "# Define paths\n",
    "\n",
    "src_path_Source = '/media/hmorales/Skynet/MemNuclei2Nuclei/MemNuclei/trainingImages/'\n",
    "src_path_Target = '/media/hmorales/Skynet/MemNuclei2Nuclei/Nuclei/trainingImages/'\n",
    "modeltype = '3d'\n",
    "\n",
    "dataset = generate_datasets(model_type = modeltype,\n",
    "                            images_folder_source = src_path_Source,\n",
    "                            images_folder_target = src_path_Target,\n",
    "                            images_extension= 'tif',\n",
    "                            patch_shape = (64,64,64),\n",
    "                            patch_step = 32,\n",
    "                            threshold = 0.1,\n",
    "                            percentiles = (40.0, 99.9999),\n",
    "                            n_samples = 50000,\n",
    "                            seed_a = 27,\n",
    "                            seed_b = 57,\n",
    "                            shuffle_ = False)               "
   ]
  },
  {
   "cell_type": "code",
   "execution_count": null,
   "id": "e9a2e737",
   "metadata": {
    "scrolled": false
   },
   "outputs": [],
   "source": [
    "# plot some patches\n",
    "Npairs = 6\n",
    "figWidth=3 \n",
    "imagesShape = dataset[0].shape    \n",
    "maxPlanes = imagesShape[3] - 1  \n",
    "nImages = imagesShape[0]\n",
    "\n",
    "idxpatch=np.linspace(0, nImages-1, num=Npairs, dtype=np.int16);\n",
    "idxpatch=np.random.randint(0,nImages,Npairs)\n",
    "print(imagesShape)\n",
    "\n",
    "images1 = dataset[0]\n",
    "images2 = dataset[1]\n",
    "\n",
    "def show(ax, image):\n",
    "    ax.imshow(image, cmap='viridis', vmin=-1, vmax=1)\n",
    "    ax.get_xaxis().set_visible(False)\n",
    "    ax.get_yaxis().set_visible(False)\n",
    "\n",
    "   \n",
    "fig = plt.figure(figsize=(2*figWidth,Npairs*figWidth))\n",
    "axs = fig.subplots(Npairs,2)\n",
    "for i in range(Npairs):\n",
    "    if modeltype == '2d':\n",
    "        show(axs[i,0], images1[idxpatch[i],:,:])\n",
    "        show(axs[i,1], images2[idxpatch[i],:,:])\n",
    "    elif modeltype == '3d':\n",
    "        #show(axs[i,0], np.amax(images1[idxpatch[i],:,:,:],1))\n",
    "        #show(axs[i,1], np.amax(images2[idxpatch[i],:,:,:],1))\n",
    "        show(axs[i,0], images1[idxpatch[i],:,:,int(imagesShape[1]/2)])\n",
    "        show(axs[i,1], images2[idxpatch[i],:,:,int(imagesShape[1]/2)])\n",
    "    \n",
    "\n",
    "plt.subplots_adjust(wspace=0, hspace=0)            \n",
    "plt.show()\n",
    "\n",
    "#tiff.imwrite('temp1.tif', np.squeeze(images1), metadata={'axes': 'TZYX'})\n",
    "#tiff.imwrite('temp2.tif', np.squeeze(images2), metadata={'axes': 'TZYX'})\n"
   ]
  },
  {
   "cell_type": "code",
   "execution_count": null,
   "id": "e1d467ec",
   "metadata": {},
   "outputs": [],
   "source": [
    "# Train the model\n",
    "outdir = ''\n",
    "\n",
    "training = train_model_3D(dataset = dataset,\n",
    "                          batch_size = 1, \n",
    "                          epochs = 100, \n",
    "                          save_freq = 2,\n",
    "                          output_dir = outdir) "
   ]
  },
  {
   "cell_type": "code",
   "execution_count": null,
   "id": "b9e28d90",
   "metadata": {
    "scrolled": false
   },
   "outputs": [],
   "source": [
    "# Predict test image\n",
    "input_image_path='/media/hmorales/Skynet/MemNuclei2Nuclei/MemNuclei/testImages/G2_TL000_Angle90.tif'\n",
    "output_name = '/media/hmorales/Skynet/MemNuclei2Nuclei/MemNuclei/testImages/Nuclei_G2_TL000_Angle90.tif'\n",
    "model_path = '/home/hmorales/WorkSpace/Development/CycleGAN3D/StyleTransferMicroscopyImages-main/3DModel/models/g_model_AtoB_3D_019800.h5'\n",
    "patch_size = 64\n",
    "overlap_pct = 0.0\n",
    "percentiles = (40.0, 99.9999)\n",
    "\n",
    "prediction = predict_3D(input_image_path,  # path to image\n",
    "                        percentiles, # for image normalization\n",
    "                        output_name, # output filename. Will be saved in the working directory.\n",
    "                        model_path, # path to model (.h5 file)\n",
    "                        patch_size, # size of patch (single value)\n",
    "                        overlap_pct) # overlap percentage. Default set to 0.125 for 8 pix overlap for patch size 64.)\n",
    "          "
   ]
  },
  {
   "cell_type": "code",
   "execution_count": 5,
   "id": "6f443803",
   "metadata": {},
   "outputs": [
    {
     "name": "stdout",
     "output_type": "stream",
     "text": [
      "WARNING:tensorflow:No training configuration found in the save file, so the model was *not* compiled. Compile it manually.\n"
     ]
    }
   ],
   "source": [
    "model_path = '/home/hmorales/WorkSpace/Development/CycleGAN3D/StyleTransferMicroscopyImages-main/2DModel/models/g_model_AtoB_2D_114400.h5'\n",
    "\n",
    "instance_norm = {'InstanceNormalization': InstanceNormalization}\n",
    "model = load_model(model_path, instance_norm)\n",
    "\n",
    "# Save weights and architecture\n",
    "model.save_weights(\"/home/hmorales/WorkSpace/Development/CycleGAN3D/StyleTransferMicroscopyImages-main/2DModel/models/g_model_AtoB_2D_114400_weights_only.h5\")\n",
    "\n",
    "# Save model config\n",
    "json_config = model.to_json()\n",
    "with open('/home/hmorales/WorkSpace/Development/CycleGAN3D/StyleTransferMicroscopyImages-main/2DModel/models/g_model_AtoB_2D_114400_model_config.json', 'w') as json_file:\n",
    "    json_file.write(json_config)\n",
    "\n"
   ]
  },
  {
   "cell_type": "code",
   "execution_count": null,
   "id": "13d1f65f",
   "metadata": {},
   "outputs": [],
   "source": []
  }
 ],
 "metadata": {
  "kernelspec": {
   "display_name": "Python 3 (ipykernel)",
   "language": "python",
   "name": "python3"
  },
  "language_info": {
   "codemirror_mode": {
    "name": "ipython",
    "version": 3
   },
   "file_extension": ".py",
   "mimetype": "text/x-python",
   "name": "python",
   "nbconvert_exporter": "python",
   "pygments_lexer": "ipython3",
   "version": "3.9.16"
  }
 },
 "nbformat": 4,
 "nbformat_minor": 5
}
